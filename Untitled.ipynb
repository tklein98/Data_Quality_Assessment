{
 "cells": [
  {
   "cell_type": "code",
   "execution_count": 43,
   "id": "180c4b34-e1d6-4882-92fe-de886ef638d4",
   "metadata": {},
   "outputs": [],
   "source": [
    "import pandas as pd\n",
    "\n",
    "import nltk\n",
    "from nltk.corpus import stopwords\n",
    "from nltk.tokenize import word_tokenize\n",
    "from nltk.stem import WordNetLemmatizer\n",
    "from gensim import corpora\n",
    "from gensim.models.ldamodel import LdaModel\n",
    "from gensim.models import CoherenceModel\n",
    "import matplotlib.pyplot as plt\n",
    "from sklearn.feature_extraction.text import CountVectorizer\n",
    "from sklearn.decomposition import LatentDirichletAllocation\n",
    "import string\n",
    "import spacy\n",
    "import gensim\n",
    "from gensim.utils import simple_preprocess"
   ]
  },
  {
   "cell_type": "code",
   "execution_count": 210,
   "id": "1f6df44e-de03-49c3-bd27-2c9ccda602e6",
   "metadata": {},
   "outputs": [],
   "source": [
    "import matplotlib.pyplot as plt"
   ]
  },
  {
   "cell_type": "code",
   "execution_count": 135,
   "id": "7fc2309e-9e6d-47ab-bf1c-bf258d5e3313",
   "metadata": {},
   "outputs": [
    {
     "data": {
      "text/html": [
       "<div>\n",
       "<style scoped>\n",
       "    .dataframe tbody tr th:only-of-type {\n",
       "        vertical-align: middle;\n",
       "    }\n",
       "\n",
       "    .dataframe tbody tr th {\n",
       "        vertical-align: top;\n",
       "    }\n",
       "\n",
       "    .dataframe thead th {\n",
       "        text-align: right;\n",
       "    }\n",
       "</style>\n",
       "<table border=\"1\" class=\"dataframe\">\n",
       "  <thead>\n",
       "    <tr style=\"text-align: right;\">\n",
       "      <th></th>\n",
       "      <th>Title</th>\n",
       "      <th>Abstract</th>\n",
       "      <th>Keywords</th>\n",
       "    </tr>\n",
       "  </thead>\n",
       "  <tbody>\n",
       "    <tr>\n",
       "      <th>0</th>\n",
       "      <td>Proactively Screening Machine Learning Pipelin...</td>\n",
       "      <td>Software systems that learn from data with mac...</td>\n",
       "      <td>provenance tracking, data validation, machine ...</td>\n",
       "    </tr>\n",
       "    <tr>\n",
       "      <th>1</th>\n",
       "      <td>Demystifying Artificial Intelligence for Data ...</td>\n",
       "      <td>Data preparation -- the process of discovering...</td>\n",
       "      <td>artificial intelligence, data preparation, fou...</td>\n",
       "    </tr>\n",
       "    <tr>\n",
       "      <th>2</th>\n",
       "      <td>Data Cleaning: Overview and Emerging Challenges</td>\n",
       "      <td>Detecting and repairing dirty data is one of t...</td>\n",
       "      <td>data cleaning, statistical cleaning, integrity...</td>\n",
       "    </tr>\n",
       "    <tr>\n",
       "      <th>3</th>\n",
       "      <td>Interactive and Deterministic Data Cleaning</td>\n",
       "      <td>We present Falcon, an interactive, determinist...</td>\n",
       "      <td>deterministic, interactive, data cleaning, dec...</td>\n",
       "    </tr>\n",
       "    <tr>\n",
       "      <th>4</th>\n",
       "      <td>GoodCore: Data-Effective and Data-Efficient Ma...</td>\n",
       "      <td>Given a dataset with incomplete data (e.g., mi...</td>\n",
       "      <td>machine learning, coreset selection, data clea...</td>\n",
       "    </tr>\n",
       "    <tr>\n",
       "      <th>5</th>\n",
       "      <td>Automating and Optimizing Data-Centric What-If...</td>\n",
       "      <td>Software systems that learn from data with mac...</td>\n",
       "      <td>data-centric ai, data preparation for machine ...</td>\n",
       "    </tr>\n",
       "    <tr>\n",
       "      <th>6</th>\n",
       "      <td>IFlipper: Label Flipping for Individual Fairness</td>\n",
       "      <td>As machine learning becomes prevalent, mitigat...</td>\n",
       "      <td>individual fairness, data pre-processing, data...</td>\n",
       "    </tr>\n",
       "    <tr>\n",
       "      <th>7</th>\n",
       "      <td>HAIPipe: Combining Human-Generated and Machine...</td>\n",
       "      <td>Data preparation is crucial in achieving optim...</td>\n",
       "      <td>reinforcement learning, pipeline generation, d...</td>\n",
       "    </tr>\n",
       "    <tr>\n",
       "      <th>8</th>\n",
       "      <td>Data Collection and Quality Challenges for Dee...</td>\n",
       "      <td>Software 2.0 refers to the fundamental shift i...</td>\n",
       "      <td>NaN</td>\n",
       "    </tr>\n",
       "    <tr>\n",
       "      <th>9</th>\n",
       "      <td>Managing Bias and Unfairness in Data for Decis...</td>\n",
       "      <td>The increasing use of data-driven decision sup...</td>\n",
       "      <td>Decision support systems, Data curation, Bias ...</td>\n",
       "    </tr>\n",
       "    <tr>\n",
       "      <th>10</th>\n",
       "      <td>Measuring Fairness in Ranked Outputs</td>\n",
       "      <td>Ranking and scoring are ubiquitous. We conside...</td>\n",
       "      <td>Data Science for Social Good, Responsibly, Tra...</td>\n",
       "    </tr>\n",
       "    <tr>\n",
       "      <th>11</th>\n",
       "      <td>Data-Centric Factors in Algorithmic Fairness</td>\n",
       "      <td>Notwithstanding the widely held view that data...</td>\n",
       "      <td>datasets, recidivism prediction, algorithmic f...</td>\n",
       "    </tr>\n",
       "    <tr>\n",
       "      <th>12</th>\n",
       "      <td>Confident Learning: Estimating Uncertainty in ...</td>\n",
       "      <td>Learning exists in the context of data, yet no...</td>\n",
       "      <td>NaN</td>\n",
       "    </tr>\n",
       "    <tr>\n",
       "      <th>13</th>\n",
       "      <td>Get Another Label? Improving Data Quality and ...</td>\n",
       "      <td>This paper addresses the repeated acquisition ...</td>\n",
       "      <td>data selection, data preprocessing</td>\n",
       "    </tr>\n",
       "    <tr>\n",
       "      <th>14</th>\n",
       "      <td>Using Trusted Data to Train Deep Networks on L...</td>\n",
       "      <td>The growing importance of massive datasets wit...</td>\n",
       "      <td>NaN</td>\n",
       "    </tr>\n",
       "    <tr>\n",
       "      <th>15</th>\n",
       "      <td>Learning to Reweight Examples for Robust Deep ...</td>\n",
       "      <td>Deep neural networks have been shown to be ver...</td>\n",
       "      <td>NaN</td>\n",
       "    </tr>\n",
       "    <tr>\n",
       "      <th>16</th>\n",
       "      <td>Exploiting the Potential of Datasets: A Data-C...</td>\n",
       "      <td>Robustness of deep neural networks (DNNs) to m...</td>\n",
       "      <td>NaN</td>\n",
       "    </tr>\n",
       "    <tr>\n",
       "      <th>17</th>\n",
       "      <td>A Method to Screen, Assess, and Prepare Open D...</td>\n",
       "      <td>Open data's value-creating capabilities and in...</td>\n",
       "      <td>Knowledge Graph, Data quality, Open data, Data...</td>\n",
       "    </tr>\n",
       "    <tr>\n",
       "      <th>18</th>\n",
       "      <td>Discovering Data Quality Problems</td>\n",
       "      <td>Existing  methodologies  for  identifying  dat...</td>\n",
       "      <td>Data quality, Open data, Design science</td>\n",
       "    </tr>\n",
       "    <tr>\n",
       "      <th>19</th>\n",
       "      <td>Context-Aware Big Data Quality Assessment: A S...</td>\n",
       "      <td>The term data quality refers to measuring the ...</td>\n",
       "      <td>big data, Data quality, context awareness, dat...</td>\n",
       "    </tr>\n",
       "  </tbody>\n",
       "</table>\n",
       "</div>"
      ],
      "text/plain": [
       "                                                Title  \\\n",
       "0   Proactively Screening Machine Learning Pipelin...   \n",
       "1   Demystifying Artificial Intelligence for Data ...   \n",
       "2     Data Cleaning: Overview and Emerging Challenges   \n",
       "3         Interactive and Deterministic Data Cleaning   \n",
       "4   GoodCore: Data-Effective and Data-Efficient Ma...   \n",
       "5   Automating and Optimizing Data-Centric What-If...   \n",
       "6    IFlipper: Label Flipping for Individual Fairness   \n",
       "7   HAIPipe: Combining Human-Generated and Machine...   \n",
       "8   Data Collection and Quality Challenges for Dee...   \n",
       "9   Managing Bias and Unfairness in Data for Decis...   \n",
       "10               Measuring Fairness in Ranked Outputs   \n",
       "11       Data-Centric Factors in Algorithmic Fairness   \n",
       "12  Confident Learning: Estimating Uncertainty in ...   \n",
       "13  Get Another Label? Improving Data Quality and ...   \n",
       "14  Using Trusted Data to Train Deep Networks on L...   \n",
       "15  Learning to Reweight Examples for Robust Deep ...   \n",
       "16  Exploiting the Potential of Datasets: A Data-C...   \n",
       "17  A Method to Screen, Assess, and Prepare Open D...   \n",
       "18                  Discovering Data Quality Problems   \n",
       "19  Context-Aware Big Data Quality Assessment: A S...   \n",
       "\n",
       "                                             Abstract  \\\n",
       "0   Software systems that learn from data with mac...   \n",
       "1   Data preparation -- the process of discovering...   \n",
       "2   Detecting and repairing dirty data is one of t...   \n",
       "3   We present Falcon, an interactive, determinist...   \n",
       "4   Given a dataset with incomplete data (e.g., mi...   \n",
       "5   Software systems that learn from data with mac...   \n",
       "6   As machine learning becomes prevalent, mitigat...   \n",
       "7   Data preparation is crucial in achieving optim...   \n",
       "8   Software 2.0 refers to the fundamental shift i...   \n",
       "9   The increasing use of data-driven decision sup...   \n",
       "10  Ranking and scoring are ubiquitous. We conside...   \n",
       "11  Notwithstanding the widely held view that data...   \n",
       "12  Learning exists in the context of data, yet no...   \n",
       "13  This paper addresses the repeated acquisition ...   \n",
       "14  The growing importance of massive datasets wit...   \n",
       "15  Deep neural networks have been shown to be ver...   \n",
       "16  Robustness of deep neural networks (DNNs) to m...   \n",
       "17  Open data's value-creating capabilities and in...   \n",
       "18  Existing  methodologies  for  identifying  dat...   \n",
       "19  The term data quality refers to measuring the ...   \n",
       "\n",
       "                                             Keywords  \n",
       "0   provenance tracking, data validation, machine ...  \n",
       "1   artificial intelligence, data preparation, fou...  \n",
       "2   data cleaning, statistical cleaning, integrity...  \n",
       "3   deterministic, interactive, data cleaning, dec...  \n",
       "4   machine learning, coreset selection, data clea...  \n",
       "5   data-centric ai, data preparation for machine ...  \n",
       "6   individual fairness, data pre-processing, data...  \n",
       "7   reinforcement learning, pipeline generation, d...  \n",
       "8                                                 NaN  \n",
       "9   Decision support systems, Data curation, Bias ...  \n",
       "10  Data Science for Social Good, Responsibly, Tra...  \n",
       "11  datasets, recidivism prediction, algorithmic f...  \n",
       "12                                                NaN  \n",
       "13                 data selection, data preprocessing  \n",
       "14                                                NaN  \n",
       "15                                                NaN  \n",
       "16                                                NaN  \n",
       "17  Knowledge Graph, Data quality, Open data, Data...  \n",
       "18            Data quality, Open data, Design science  \n",
       "19  big data, Data quality, context awareness, dat...  "
      ]
     },
     "execution_count": 135,
     "metadata": {},
     "output_type": "execute_result"
    }
   ],
   "source": [
    "data = pd.read_csv('Topic_CSV.csv')\n",
    "data.head(20)"
   ]
  },
  {
   "cell_type": "markdown",
   "id": "3cd15906-7366-4904-a1e0-8c9da76b6efd",
   "metadata": {},
   "source": [
    "## 1. Loading Data"
   ]
  },
  {
   "cell_type": "markdown",
   "id": "f98f9d5b-b032-45e5-b0a8-1550338426d8",
   "metadata": {
    "jp-MarkdownHeadingCollapsed": true,
    "tags": []
   },
   "source": [
    "# A. Initial model and preprocessing"
   ]
  },
  {
   "cell_type": "code",
   "execution_count": 90,
   "id": "2a7dd058-7479-4f27-b0e7-40b924e85a36",
   "metadata": {},
   "outputs": [],
   "source": [
    "papers = data['Abstract']"
   ]
  },
  {
   "cell_type": "markdown",
   "id": "9997c51e-ef50-48b3-b5d4-d1735094c010",
   "metadata": {},
   "source": [
    "## 2. Preprocessing"
   ]
  },
  {
   "cell_type": "code",
   "execution_count": 128,
   "id": "1878c433-b74e-4b34-bd00-49efbebd15a7",
   "metadata": {},
   "outputs": [
    {
     "name": "stdout",
     "output_type": "stream",
     "text": [
      "['software', 'systems', 'that', 'learn', 'from', 'data', 'with', 'machine', 'learning', 'ml', 'are', 'ubiquitous', 'ml', 'pipelines', 'in', 'these', 'applications', 'often', 'suffer', 'from', 'variety', 'of', 'data', 'related', 'issues', 'such', 'as', 'data', 'leakage', 'label']\n"
     ]
    }
   ],
   "source": [
    "# Remove punctuation and tokenize\n",
    "\n",
    "def sent_to_words(sentences):\n",
    "    for sentence in sentences:\n",
    "        yield(gensim.utils.simple_preprocess(str(sentence), deacc=True))  # deacc=True removes punctuations\n",
    "\n",
    "data = papers.values.tolist()\n",
    "data_words = list(sent_to_words(data))\n",
    "\n",
    "print(data_words[:1][0][:30])"
   ]
  },
  {
   "cell_type": "code",
   "execution_count": 93,
   "id": "ec55aebb-8b65-4270-930f-4f8b7dc20b91",
   "metadata": {},
   "outputs": [],
   "source": [
    "# Build the bigram and trigram models\n",
    "bigram = gensim.models.Phrases(data_words, min_count=5, threshold=100) # higher threshold fewer phrases.\n",
    "trigram = gensim.models.Phrases(bigram[data_words], threshold=100)  \n",
    "\n",
    "# Faster way to get a sentence clubbed as a trigram/bigram\n",
    "bigram_mod = gensim.models.phrases.Phraser(bigram)\n",
    "trigram_mod = gensim.models.phrases.Phraser(trigram)"
   ]
  },
  {
   "cell_type": "code",
   "execution_count": 94,
   "id": "6027eb41-9783-47a6-b41b-836fbb2a6c6b",
   "metadata": {},
   "outputs": [
    {
     "name": "stderr",
     "output_type": "stream",
     "text": [
      "[nltk_data] Downloading package stopwords to\n",
      "[nltk_data]     /Users/tobiasklein/nltk_data...\n",
      "[nltk_data]   Package stopwords is already up-to-date!\n"
     ]
    }
   ],
   "source": [
    "# Other preprocessing steps \n",
    "\n",
    "# NLTK Stop words\n",
    "import nltk\n",
    "nltk.download('stopwords')\n",
    "from nltk.corpus import stopwords\n",
    "\n",
    "stop_words = stopwords.words('english')\n",
    "stop_words.extend(['from', 'subject', 're', 'edu', 'use'])\n",
    "\n",
    "# Define functions for stopwords, bigrams, trigrams and lemmatization\n",
    "def remove_stopwords(texts):\n",
    "    return [[word for word in simple_preprocess(str(doc)) if word not in stop_words] for doc in texts]\n",
    "\n",
    "def make_bigrams(texts):\n",
    "    return [bigram_mod[doc] for doc in texts]\n",
    "\n",
    "def make_trigrams(texts):\n",
    "    return [trigram_mod[bigram_mod[doc]] for doc in texts]\n",
    "\n",
    "def lemmatization(texts, allowed_postags=['NOUN', 'ADJ', 'VERB', 'ADV']):\n",
    "    \"\"\"https://spacy.io/api/annotation\"\"\"\n",
    "    texts_out = []\n",
    "    for sent in texts:\n",
    "        doc = nlp(\" \".join(sent)) \n",
    "        texts_out.append([token.lemma_ for token in doc if token.pos_ in allowed_postags])\n",
    "    return texts_out"
   ]
  },
  {
   "cell_type": "code",
   "execution_count": 98,
   "id": "5caac5f8-8b02-4a5b-97ec-8df9011693e1",
   "metadata": {},
   "outputs": [
    {
     "name": "stdout",
     "output_type": "stream",
     "text": [
      "['software', 'system', 'learn', 'datum', 'machine_learne', 'ml', 'ubiquitous', 'pipeline', 'application', 'often', 'suffer', 'variety', 'datum', 'relate', 'issue', 'datum', 'leakage', 'label', 'error', 'fairness', 'violation', 'require', 'reason', 'complex', 'dependency', 'input', 'output', 'issue', 'usually', 'detect']\n"
     ]
    }
   ],
   "source": [
    "# Execute preprocessing\n",
    "\n",
    "# Remove Stop Words\n",
    "data_words_nostops = remove_stopwords(data_words)\n",
    "\n",
    "# Form Bigrams\n",
    "data_words_bigrams = make_bigrams(data_words_nostops)\n",
    "\n",
    "# Initialize spacy 'en' model, keeping only tagger component (for efficiency)\n",
    "nlp = spacy.load(\"en_core_web_sm\", disable=['parser', 'ner'])\n",
    "\n",
    "# Do lemmatization keeping only noun, adj, vb, adv\n",
    "data_lemmatized = lemmatization(data_words_bigrams, allowed_postags=['NOUN', 'ADJ', 'VERB', 'ADV'])\n",
    "\n",
    "print(data_lemmatized[:1][0][:30])"
   ]
  },
  {
   "cell_type": "code",
   "execution_count": 99,
   "id": "b6bae377-0295-4d02-b338-9821748193b4",
   "metadata": {},
   "outputs": [
    {
     "name": "stdout",
     "output_type": "stream",
     "text": [
      "[(0, 1), (1, 1), (2, 1), (3, 2), (4, 1), (5, 1), (6, 1), (7, 1), (8, 1), (9, 1), (10, 1), (11, 3), (12, 4), (13, 1), (14, 2), (15, 1), (16, 2), (17, 2), (18, 1), (19, 1), (20, 1), (21, 1), (22, 2), (23, 1), (24, 1), (25, 1), (26, 1), (27, 1), (28, 1), (29, 4)]\n"
     ]
    }
   ],
   "source": [
    "# Creating corpus and dictionary for LDA \n",
    "\n",
    "import gensim.corpora as corpora\n",
    "\n",
    "# Create Dictionary\n",
    "id2word = corpora.Dictionary(data_lemmatized)\n",
    "\n",
    "# Create Corpus\n",
    "texts = data_lemmatized\n",
    "\n",
    "# Term Document Frequency\n",
    "corpus = [id2word.doc2bow(text) for text in texts]\n",
    "\n",
    "# View\n",
    "print(corpus[:1][0][:30])"
   ]
  },
  {
   "cell_type": "markdown",
   "id": "aeaf255d-996b-47b6-bc37-c47b5c20cb2c",
   "metadata": {},
   "source": [
    "## 3. Finding number of topics"
   ]
  },
  {
   "cell_type": "markdown",
   "id": "4d3d39fd-a599-4292-8528-4694913e296f",
   "metadata": {},
   "source": [
    "To find the right number of topics, we will create models on our text data for various number of topics. These models will then be evaluated by looking at the respective model coherence"
   ]
  },
  {
   "cell_type": "code",
   "execution_count": 117,
   "id": "6a651372-2ab4-480f-a7c2-23d410160716",
   "metadata": {},
   "outputs": [],
   "source": [
    "def elbow_method(n):\n",
    "    \n",
    "    lda_model = gensim.models.LdaMulticore(corpus=corpus,\n",
    "                                       id2word=id2word,\n",
    "                                       num_topics=n, \n",
    "                                       random_state=100,\n",
    "                                       chunksize=100,\n",
    "                                       passes=10,\n",
    "                                       per_word_topics=True)\n",
    "    \n",
    "    coherence_model_lda = CoherenceModel(model=lda_model, texts=data_lemmatized, dictionary=id2word, coherence='c_v')\n",
    "    coherence_lda = coherence_model_lda.get_coherence()\n",
    "    \n",
    "    \n",
    "    return coherence_lda"
   ]
  },
  {
   "cell_type": "code",
   "execution_count": 119,
   "id": "555a1ba7-d211-4daa-9ee5-5aaea5768538",
   "metadata": {},
   "outputs": [
    {
     "name": "stdout",
     "output_type": "stream",
     "text": [
      "2\n",
      "3\n",
      "4\n",
      "5\n",
      "6\n",
      "7\n",
      "8\n",
      "9\n"
     ]
    }
   ],
   "source": [
    "# Define possible number of topics to iterate through\n",
    "n_topics = [2,3,4,5,6,7,8,9]\n",
    "\n",
    "\n",
    "scores = {}\n",
    "\n",
    "for topics in n_topics:\n",
    "    scores[topics] = elbow_method(topics)\n",
    "    print(topics)\n",
    "    \n",
    "plt.plot(scores.keys(),list(scores.values()))"
   ]
  },
  {
   "cell_type": "markdown",
   "id": "d6dbd8fc-fcfd-4ffc-bc1e-8ea6e679d4d6",
   "metadata": {},
   "source": [
    "## 4. Training actual model"
   ]
  },
  {
   "cell_type": "code",
   "execution_count": 123,
   "id": "ff3f1b99-41a7-4b99-9d5d-1dcdb6f932b1",
   "metadata": {},
   "outputs": [],
   "source": [
    "# Build LDA model\n",
    "lda_model = gensim.models.LdaMulticore(corpus=corpus,\n",
    "                                       id2word=id2word,\n",
    "                                       num_topics=7, \n",
    "                                       random_state=100,\n",
    "                                       chunksize=100,\n",
    "                                       passes=10,\n",
    "                                       per_word_topics=True)"
   ]
  },
  {
   "cell_type": "code",
   "execution_count": 124,
   "id": "85d2af2e-d537-4881-8533-f75d5d7a682d",
   "metadata": {},
   "outputs": [
    {
     "name": "stdout",
     "output_type": "stream",
     "text": [
      "[(0,\n",
      "  '0.051*\"datum\" + 0.029*\"quality\" + 0.013*\"label\" + 0.013*\"data\" + '\n",
      "  '0.012*\"approach\" + 0.011*\"value\" + 0.009*\"use\" + 0.008*\"labeling\" + '\n",
      "  '0.007*\"problem\" + 0.007*\"decision\"'),\n",
      " (1,\n",
      "  '0.026*\"label\" + 0.019*\"class\" + 0.017*\"cl\" + 0.016*\"datum\" + '\n",
      "  '0.012*\"dataset\" + 0.012*\"error\" + 0.010*\"result\" + 0.009*\"model\" + '\n",
      "  '0.009*\"noisy\" + 0.009*\"estimate\"'),\n",
      " (2,\n",
      "  '0.054*\"datum\" + 0.027*\"quality\" + 0.015*\"pipeline\" + 0.013*\"data\" + '\n",
      "  '0.011*\"issue\" + 0.010*\"open\" + 0.008*\"process\" + 0.008*\"research\" + '\n",
      "  '0.008*\"detect\" + 0.006*\"system\"'),\n",
      " (3,\n",
      "  '0.046*\"datum\" + 0.029*\"pipeline\" + 0.024*\"quality\" + 0.019*\"data\" + '\n",
      "  '0.015*\"model\" + 0.011*\"ml\" + 0.008*\"base\" + 0.007*\"approach\" + 0.007*\"use\" '\n",
      "  '+ 0.007*\"ai\"'),\n",
      " (4,\n",
      "  '0.021*\"example\" + 0.011*\"method\" + 0.011*\"weight\" + 0.011*\"hyperparameter\" '\n",
      "  '+ 0.007*\"clean\" + 0.007*\"require\" + 0.007*\"problem\" + 0.007*\"label\" + '\n",
      "  '0.007*\"training\" + 0.007*\"propose\"'),\n",
      " (5,\n",
      "  '0.056*\"datum\" + 0.027*\"quality\" + 0.019*\"solution\" + 0.018*\"context\" + '\n",
      "  '0.015*\"big\" + 0.009*\"data\" + 0.009*\"update\" + 0.009*\"exist\" + '\n",
      "  '0.008*\"challenge\" + 0.008*\"assessment\"'),\n",
      " (6,\n",
      "  '0.033*\"datum\" + 0.018*\"bias\" + 0.015*\"fairness\" + 0.014*\"dataset\" + '\n",
      "  '0.010*\"data\" + 0.010*\"model\" + 0.009*\"preparation\" + 0.009*\"system\" + '\n",
      "  '0.009*\"training\" + 0.009*\"individual\"')]\n"
     ]
    }
   ],
   "source": [
    "from pprint import pprint\n",
    "\n",
    "# Print the Keyword in the 10 topics\n",
    "pprint(lda_model.print_topics())\n",
    "doc_lda = lda_model[corpus]"
   ]
  },
  {
   "cell_type": "markdown",
   "id": "ca4a53de-2e38-483e-b41c-dce1adc0599a",
   "metadata": {},
   "source": [
    "# B. Improved Model and Preprocessing"
   ]
  },
  {
   "cell_type": "markdown",
   "id": "126fe103-b305-4cfc-989e-ec739a49720b",
   "metadata": {},
   "source": [
    "## 5. Improving Data input"
   ]
  },
  {
   "cell_type": "markdown",
   "id": "a169d1f7-106b-4bcd-bb3c-d4ceaeecdf4c",
   "metadata": {},
   "source": [
    "When looking at our selected topics, we can see that the word 'datum' is presented often. As this topic holds no meaning for our topics, we will include it in our stopwords. The word data is also so general that we can remove it as well. "
   ]
  },
  {
   "cell_type": "markdown",
   "id": "19fc7bc9-a12f-4760-adda-f26fa0db9fd2",
   "metadata": {},
   "source": [
    "Due to the relatively small size of our dataset, we will also include the keywords and Titles in the analysis as well and see if we get more concrete topics."
   ]
  },
  {
   "cell_type": "code",
   "execution_count": 228,
   "id": "221c0f78-c1d8-4bc2-af53-6511f3ceff9b",
   "metadata": {},
   "outputs": [],
   "source": [
    "papers_2 = data['Title'].fillna('') + data['Keywords'].fillna('') + data['Abstract'].fillna('')\n",
    "\n",
    "def sent_to_words(sentences):\n",
    "    for sentence in sentences:\n",
    "        yield(gensim.utils.simple_preprocess(str(sentence), deacc=True))  # deacc=True removes punctuations\n",
    "\n",
    "data_2 = papers_2.values.tolist()\n",
    "data_words_2 = list(sent_to_words(data_2))\n",
    "\n",
    "bigram = gensim.models.Phrases(data_words_2, min_count=5, threshold=100) # higher threshold fewer phrases."
   ]
  },
  {
   "cell_type": "code",
   "execution_count": 230,
   "id": "71a0c63a-bc9d-4ac8-a01e-9e89bbb73f06",
   "metadata": {},
   "outputs": [],
   "source": [
    "# Extending stopwords list here!\n",
    "\n",
    "stop_words.extend(['datum','data','maintain','also','make'])"
   ]
  },
  {
   "cell_type": "code",
   "execution_count": 231,
   "id": "74f07f1a-f082-42de-868b-9a41179564d1",
   "metadata": {},
   "outputs": [],
   "source": [
    "# Remove Stop Words\n",
    "data_words_nostops_2 = remove_stopwords(data_words_2)\n",
    "\n",
    "# Form Bigrams\n",
    "data_words_bigrams_2 = make_bigrams(data_words_nostops_2)\n",
    "\n",
    "# Initialize spacy 'en' model, keeping only tagger component (for efficiency)\n",
    "nlp = spacy.load(\"en_core_web_sm\", disable=['parser', 'ner'])\n",
    "\n",
    "# Do lemmatization keeping only noun, adj, vb, adv\n",
    "data_lemmatized_2 = lemmatization(data_words_bigrams_2, allowed_postags=['NOUN', 'ADJ', 'VERB', 'ADV'])"
   ]
  },
  {
   "cell_type": "markdown",
   "id": "9dd245ac-db1d-471c-8158-456d98f4d9ba",
   "metadata": {},
   "source": [
    "We can also try to use the tfidf representation instead of the bag of words representation for better performance."
   ]
  },
  {
   "cell_type": "code",
   "execution_count": 233,
   "id": "1f9fec8a-8370-46a2-8851-938cbe3311b7",
   "metadata": {},
   "outputs": [],
   "source": [
    "from gensim.models import TfidfModel\n",
    "import gensim.corpora as corpora\n",
    "\n",
    "# Create Dictionary\n",
    "id2word_2 = corpora.Dictionary(data_lemmatized_2)\n",
    "\n",
    "# Create Corpus\n",
    "texts_2 = data_lemmatized_2\n",
    "\n",
    "# Term Document Frequency\n",
    "corpus_2 = [id2word.doc2bow(text) for text in texts_2]\n",
    "\n",
    "tfidf_model = TfidfModel(corpus_2)\n",
    "corpus_2 = tfidf_model[corpus_2]"
   ]
  },
  {
   "cell_type": "code",
   "execution_count": 234,
   "id": "2dcd4ac1-b9db-4438-8c15-8f9549810683",
   "metadata": {},
   "outputs": [],
   "source": [
    "def elbow_method_2(n):\n",
    "    \n",
    "    lda_model_2 = gensim.models.LdaMulticore(corpus=corpus_2,\n",
    "                                       id2word=id2word_2,\n",
    "                                       num_topics=n, \n",
    "                                       random_state=100,\n",
    "                                       chunksize=100,\n",
    "                                       passes=10,\n",
    "                                       per_word_topics=True)\n",
    "    \n",
    "    coherence_model_lda_2 = CoherenceModel(model=lda_model_2, texts=data_lemmatized_2, dictionary=id2word_2, coherence='c_v')\n",
    "    coherence_lda_2 = coherence_model_lda_2.get_coherence()\n",
    "    \n",
    "    return coherence_lda_2"
   ]
  },
  {
   "cell_type": "code",
   "execution_count": 235,
   "id": "02bc2f12-6257-4169-9349-66ba8f9fbc5a",
   "metadata": {},
   "outputs": [
    {
     "name": "stdout",
     "output_type": "stream",
     "text": [
      "2\n",
      "3\n",
      "4\n",
      "5\n",
      "6\n",
      "7\n",
      "8\n",
      "9\n"
     ]
    },
    {
     "data": {
      "text/plain": [
       "[<matplotlib.lines.Line2D at 0x2cb88f280>]"
      ]
     },
     "execution_count": 235,
     "metadata": {},
     "output_type": "execute_result"
    },
    {
     "data": {
      "image/png": "[encoded data removed]",
      "text/plain": [
       "<Figure size 640x480 with 1 Axes>"
      ]
     },
     "metadata": {},
     "output_type": "display_data"
    }
   ],
   "source": [
    "# Define possible number of topics to iterate through\n",
    "n_topics = [2,3,4,5,6,7,8,9]\n",
    "\n",
    "\n",
    "scores = {}\n",
    "\n",
    "for topics in n_topics:\n",
    "    scores[topics] = elbow_method_2(topics)\n",
    "    print(topics)\n",
    "    \n",
    "plt.plot(scores.keys(),list(scores.values()))"
   ]
  },
  {
   "cell_type": "markdown",
   "id": "311803c8-4881-4faf-b883-76b40994c12e",
   "metadata": {},
   "source": [
    "**Significantly higher coherence achieved with improvements to model and data!**"
   ]
  },
  {
   "cell_type": "code",
   "execution_count": 256,
   "id": "2bd925d8-6a1c-4edd-8c02-ef984b22d988",
   "metadata": {},
   "outputs": [],
   "source": [
    "scores_list = list(scores.values())\n",
    "\n",
    "n_max_score = scores_list.index(max(scores_list))+2\n",
    "\n",
    "# Custom number of topics\n",
    "\n",
    "n_max_score = 5"
   ]
  },
  {
   "cell_type": "markdown",
   "id": "96cd421e-2f8f-4310-8a71-9620186c5ccf",
   "metadata": {},
   "source": [
    "By implementing the improvement steps, we can already see that our coherence score improved dramatically."
   ]
  },
  {
   "cell_type": "markdown",
   "id": "eeb5dc26-41e2-424a-8a92-c51a355f3a99",
   "metadata": {},
   "source": [
    "## 6. Training model after improvements"
   ]
  },
  {
   "cell_type": "code",
   "execution_count": 257,
   "id": "fa61999c-5ace-4351-9d60-0d3f65c96dea",
   "metadata": {},
   "outputs": [],
   "source": [
    "# Build LDA model\n",
    "lda_model_2 = gensim.models.LdaMulticore(corpus=corpus_2,\n",
    "                                       id2word=id2word_2,\n",
    "                                       num_topics=n_max_score, \n",
    "                                       random_state=100,\n",
    "                                       chunksize=100,\n",
    "                                       passes=10,\n",
    "                                       per_word_topics=True)"
   ]
  },
  {
   "cell_type": "code",
   "execution_count": 258,
   "id": "92546ee3-99e3-4214-b831-8c1e70686ccc",
   "metadata": {},
   "outputs": [
    {
     "name": "stdout",
     "output_type": "stream",
     "text": [
      "[(0,\n",
      "  '0.002*\"qualitative\" + 0.002*\"discriminate\" + 0.002*\"statistical\" + '\n",
      "  '0.002*\"trivial\" + 0.002*\"characteristic\" + 0.002*\"fairness\" + 0.002*\"cast\" '\n",
      "  '+ 0.002*\"refer\" + 0.002*\"candidate\" + 0.002*\"combine\"'),\n",
      " (1,\n",
      "  '0.003*\"help\" + 0.003*\"come\" + 0.002*\"top\" + 0.002*\"ethnicity\" + '\n",
      "  '0.002*\"context\" + 0.002*\"strategy\" + 0.002*\"competition\" + '\n",
      "  '0.002*\"influencing\" + 0.002*\"guideline\" + 0.002*\"image\"'),\n",
      " (2,\n",
      "  '0.004*\"part\" + 0.002*\"rent\" + 0.002*\"minimal\" + 0.002*\"uncorrupted\" + '\n",
      "  '0.002*\"sophisticated\" + 0.002*\"label\" + 0.002*\"temporal\" + 0.002*\"issue\" + '\n",
      "  '0.002*\"occur\" + 0.002*\"value\"'),\n",
      " (3,\n",
      "  '0.003*\"reinforcement\" + 0.003*\"fairness\" + 0.002*\"validate\" + 0.002*\"shift\" '\n",
      "  '+ 0.002*\"programming\" + 0.002*\"minimum\" + 0.002*\"reference\" + '\n",
      "  '0.002*\"combine\" + 0.002*\"dqd\" + 0.002*\"label\"'),\n",
      " (4,\n",
      "  '0.003*\"part\" + 0.003*\"adapt\" + 0.002*\"orchestrate\" + 0.002*\"mislabele\" + '\n",
      "  '0.002*\"high\" + 0.002*\"represent\" + 0.002*\"availability\" + '\n",
      "  '0.002*\"distinguishe\" + 0.002*\"non\" + 0.002*\"image\"')]\n"
     ]
    }
   ],
   "source": [
    "from pprint import pprint\n",
    "\n",
    "# Print keywords for each topic\n",
    "\n",
    "pprint(lda_model_2.print_topics())"
   ]
  },
  {
   "cell_type": "markdown",
   "id": "756921a1-d5c7-4ec9-995e-4a7a502707e0",
   "metadata": {},
   "source": [
    "**still, many of the listed words do seem to be quite ambiguous and could be removed as stopwords**"
   ]
  },
  {
   "cell_type": "code",
   "execution_count": 299,
   "id": "b84a3936-2ffd-4b17-9650-4c6f67e4b75d",
   "metadata": {},
   "outputs": [
    {
     "name": "stdout",
     "output_type": "stream",
     "text": [
      "Topic distribution for document 0:\n",
      "Topic 0: Probability 0.0259\n",
      "Topic 1: Probability 0.0261\n",
      "Topic 2: Probability 0.0263\n",
      "Topic 3: Probability 0.8953\n",
      "Topic 4: Probability 0.0263\n",
      "\n",
      "highest probability:  0.89534664\n"
     ]
    }
   ],
   "source": [
    "#Showing probability distribution of example document from our LDA model\n",
    "\n",
    "document_index = 0\n",
    "document = corpus_2[document_index]\n",
    "topic_distribution = lda_model_2.get_document_topics(document)\n",
    "\n",
    "print(f\"Topic distribution for document {document_index}:\")\n",
    "for topic, prob in topic_distribution:\n",
    "    print(f\"Topic {topic}: Probability {prob:.4f}\")\n",
    "    \n",
    "    \n",
    "topic_with_highest_prob = max(topic_distribution, key=lambda x: x[1])\n",
    "print()\n",
    "print('highest probability: ',topic_with_highest_prob[1])"
   ]
  },
  {
   "cell_type": "code",
   "execution_count": 296,
   "id": "fdea6d60-e38f-486a-a168-2106b56d5781",
   "metadata": {},
   "outputs": [],
   "source": [
    "# Allocating predicted topic to each document and the model's assessed probability that the document belongs to that respective topic\n",
    "\n",
    "allocated_topic = []\n",
    "probabilities = []\n",
    "\n",
    "for i in range(len(corpus)):\n",
    "    document = corpus_2[i]\n",
    "    topic_distribution = lda_model_2.get_document_topics(document)\n",
    "    \n",
    "    topic_with_highest_prob = max(topic_distribution, key=lambda x: x[1])\n",
    "    allocated_topic.append(topic_with_highest_prob[0])\n",
    "    probabilities.append(topic_with_highest_prob[1])"
   ]
  },
  {
   "cell_type": "code",
   "execution_count": 265,
   "id": "7976c050-753b-463f-b302-3c138612107f",
   "metadata": {},
   "outputs": [
    {
     "data": {
      "text/html": [
       "<div>\n",
       "<style scoped>\n",
       "    .dataframe tbody tr th:only-of-type {\n",
       "        vertical-align: middle;\n",
       "    }\n",
       "\n",
       "    .dataframe tbody tr th {\n",
       "        vertical-align: top;\n",
       "    }\n",
       "\n",
       "    .dataframe thead th {\n",
       "        text-align: right;\n",
       "    }\n",
       "</style>\n",
       "<table border=\"1\" class=\"dataframe\">\n",
       "  <thead>\n",
       "    <tr style=\"text-align: right;\">\n",
       "      <th></th>\n",
       "      <th>Title</th>\n",
       "      <th>Abstract</th>\n",
       "      <th>Keywords</th>\n",
       "      <th>allocated_topic</th>\n",
       "      <th>probabilities</th>\n",
       "    </tr>\n",
       "  </thead>\n",
       "  <tbody>\n",
       "    <tr>\n",
       "      <th>0</th>\n",
       "      <td>Proactively Screening Machine Learning Pipelin...</td>\n",
       "      <td>Software systems that learn from data with mac...</td>\n",
       "      <td>provenance tracking, data validation, machine ...</td>\n",
       "      <td>3</td>\n",
       "      <td>0.895346</td>\n",
       "    </tr>\n",
       "    <tr>\n",
       "      <th>1</th>\n",
       "      <td>Demystifying Artificial Intelligence for Data ...</td>\n",
       "      <td>Data preparation -- the process of discovering...</td>\n",
       "      <td>artificial intelligence, data preparation, fou...</td>\n",
       "      <td>4</td>\n",
       "      <td>0.901852</td>\n",
       "    </tr>\n",
       "    <tr>\n",
       "      <th>2</th>\n",
       "      <td>Data Cleaning: Overview and Emerging Challenges</td>\n",
       "      <td>Detecting and repairing dirty data is one of t...</td>\n",
       "      <td>data cleaning, statistical cleaning, integrity...</td>\n",
       "      <td>0</td>\n",
       "      <td>0.898432</td>\n",
       "    </tr>\n",
       "    <tr>\n",
       "      <th>3</th>\n",
       "      <td>Interactive and Deterministic Data Cleaning</td>\n",
       "      <td>We present Falcon, an interactive, determinist...</td>\n",
       "      <td>deterministic, interactive, data cleaning, dec...</td>\n",
       "      <td>1</td>\n",
       "      <td>0.889013</td>\n",
       "    </tr>\n",
       "    <tr>\n",
       "      <th>4</th>\n",
       "      <td>GoodCore: Data-Effective and Data-Efficient Ma...</td>\n",
       "      <td>Given a dataset with incomplete data (e.g., mi...</td>\n",
       "      <td>machine learning, coreset selection, data clea...</td>\n",
       "      <td>3</td>\n",
       "      <td>0.875954</td>\n",
       "    </tr>\n",
       "  </tbody>\n",
       "</table>\n",
       "</div>"
      ],
      "text/plain": [
       "                                               Title  \\\n",
       "0  Proactively Screening Machine Learning Pipelin...   \n",
       "1  Demystifying Artificial Intelligence for Data ...   \n",
       "2    Data Cleaning: Overview and Emerging Challenges   \n",
       "3        Interactive and Deterministic Data Cleaning   \n",
       "4  GoodCore: Data-Effective and Data-Efficient Ma...   \n",
       "\n",
       "                                            Abstract  \\\n",
       "0  Software systems that learn from data with mac...   \n",
       "1  Data preparation -- the process of discovering...   \n",
       "2  Detecting and repairing dirty data is one of t...   \n",
       "3  We present Falcon, an interactive, determinist...   \n",
       "4  Given a dataset with incomplete data (e.g., mi...   \n",
       "\n",
       "                                            Keywords  allocated_topic  \\\n",
       "0  provenance tracking, data validation, machine ...                3   \n",
       "1  artificial intelligence, data preparation, fou...                4   \n",
       "2  data cleaning, statistical cleaning, integrity...                0   \n",
       "3  deterministic, interactive, data cleaning, dec...                1   \n",
       "4  machine learning, coreset selection, data clea...                3   \n",
       "\n",
       "   probabilities  \n",
       "0       0.895346  \n",
       "1       0.901852  \n",
       "2       0.898432  \n",
       "3       0.889013  \n",
       "4       0.875954  "
      ]
     },
     "execution_count": 265,
     "metadata": {},
     "output_type": "execute_result"
    }
   ],
   "source": [
    "# Displaying information in new table\n",
    "\n",
    "topic_allocation = data.copy()\n",
    "topic_allocation['allocated_topic'] = allocated_topic\n",
    "topic_allocation['probabilities'] = probabilities\n",
    "topic_allocation.head()"
   ]
  },
  {
   "cell_type": "code",
   "execution_count": 266,
   "id": "6691911a-7d89-4e09-9d13-bbfa21b2dbb9",
   "metadata": {},
   "outputs": [
    {
     "data": {
      "text/plain": [
       "(array([4., 0., 8., 0., 0., 8., 0., 9., 0., 8.]),\n",
       " array([0. , 0.4, 0.8, 1.2, 1.6, 2. , 2.4, 2.8, 3.2, 3.6, 4. ]),\n",
       " <BarContainer object of 10 artists>)"
      ]
     },
     "execution_count": 266,
     "metadata": {},
     "output_type": "execute_result"
    },
    {
     "data": {
      "image/png": "[encoded data removed]",
      "text/plain": [
       "<Figure size 640x480 with 1 Axes>"
      ]
     },
     "metadata": {},
     "output_type": "display_data"
    }
   ],
   "source": [
    "# Showing distribution of documents assigned to respective topics\n",
    "\n",
    "plt.hist(topic_allocation['allocated_topic'],width=0.3)"
   ]
  },
  {
   "cell_type": "markdown",
   "id": "3d03da99-91c0-48d7-86c2-47a0ce8ca794",
   "metadata": {},
   "source": [
    "Below is a depiction of the three top topics with the highest occurence within our research. The titles of the papers that belong to each topic are depicted."
   ]
  },
  {
   "cell_type": "code",
   "execution_count": 300,
   "id": "721f728d-7bf2-4ad5-91e5-935703352750",
   "metadata": {},
   "outputs": [],
   "source": [
    "# Selecting the top 3 topics with the most papers being allocated to \n",
    "\n",
    "top3_topics = topic_allocation['allocated_topic'].value_counts()[:3]\n",
    "top3_topics = top3_topics.index"
   ]
  },
  {
   "cell_type": "code",
   "execution_count": 302,
   "id": "544a183c-fd51-41b7-9667-5f64769e740d",
   "metadata": {},
   "outputs": [
    {
     "name": "stdout",
     "output_type": "stream",
     "text": [
      "Topic 3\n",
      "Proactively Screening Machine Learning Pipelines with ARGUSEYES\n",
      "GoodCore: Data-Effective and Data-Efficient Machine Learning through Coreset Selection over Incomplete Data\n",
      "IFlipper: Label Flipping for Individual Fairness\n",
      "Managing Bias and Unfairness in Data for Decision Support: A Survey of Machine Learning and Data Engineering Approaches to Identify and Mitigate Bias and Unfairness within Data Management and Analytics Systems\n",
      "Data-Centric Factors in Algorithmic Fairness\n",
      "Confident Learning: Estimating Uncertainty in Dataset Labels\n",
      "Detecting Risk of Biased Output with Balance Measures\n",
      "Effect of Imprecise Data Income-Flow Variability on Harvest Stability: A Quantile-Based Approach\n",
      "Quality Anomaly Detection Using Predictive Techniques: An Extensive Big Data Quality Framework for Reliable Data Analysis\n",
      "------------------------------------\n",
      "Topic 4\n",
      "Demystifying Artificial Intelligence for Data Preparation\n",
      "HAIPipe: Combining Human-Generated and Machine-Generated Pipelines for Data Preparation\n",
      "Using Trusted Data to Train Deep Networks on Labels Corrupted by Severe Noise\n",
      "A Data-Centric AI Framework for Automating Exploratory Data Analysis and Data Quality Tasks\n",
      "A Survey of Data Quality Requirements That Matter in ML Development Pipelines\n",
      "Automated Detection and Monitoring of Advanced Data Quality Rules\n",
      "Data Curation with Deep Learning\n",
      "rowdsourcing Detection of Sampling Biases in Image Datasets\n",
      "------------------------------------\n",
      "Topic 1\n",
      "Interactive and Deterministic Data Cleaning\n",
      "Learning to Reweight Examples for Robust Deep Learning\n",
      "A Method to Screen, Assess, and Prepare Open Data for Use: A Method to Screen, Assess, and Prepare Open Data for Use\n",
      "BIGQA: Declarative Big Data Quality Assessment\n",
      "Process-Data Quality: The True Frontier of Process Mining\n",
      "A Method to Classify Data Quality for Decision Making Under Uncertainty\n",
      "Exploring the Impact of Data Quality on Business Performance in CRM Systems for Home Appliance Business\n",
      "Data Coverage for Detecting Representation Bias in Image Datasets: A Crowdsourcing Approach\n"
     ]
    }
   ],
   "source": [
    "# Displaying respective paper titles to their allocated topics\n",
    "\n",
    "topic_first = topic_allocation[topic_allocation['allocated_topic']==top3_topics[0]]\n",
    "\n",
    "topic_second = topic_allocation[topic_allocation['allocated_topic']==top3_topics[1]]\n",
    "\n",
    "topic_third = topic_allocation[topic_allocation['allocated_topic']==top3_topics[2]]\n",
    "\n",
    "print(f'Topic {top3_topics[0]}')\n",
    "for i in topic_first['Title']:\n",
    "    print(i)\n",
    "\n",
    "print('------------------------------------')\n",
    "print(f'Topic {top3_topics[1]}')\n",
    "for i in topic_second['Title']:\n",
    "    print(i)\n",
    "    \n",
    "print('------------------------------------')\n",
    "\n",
    "print(f'Topic {top3_topics[2]}')\n",
    "for i in topic_third['Title']:\n",
    "    print(i)"
   ]
  }
 ],
 "metadata": {
  "kernelspec": {
   "display_name": "Python 3 (ipykernel)",
   "language": "python",
   "name": "python3"
  },
  "language_info": {
   "codemirror_mode": {
    "name": "ipython",
    "version": 3
   },
   "file_extension": ".py",
   "mimetype": "text/x-python",
   "name": "python",
   "nbconvert_exporter": "python",
   "pygments_lexer": "ipython3",
   "version": "3.10.6"
  }
 },
 "nbformat": 4,
 "nbformat_minor": 5
}
